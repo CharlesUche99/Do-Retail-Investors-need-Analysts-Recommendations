{
 "cells": [
  {
   "cell_type": "code",
   "execution_count": 1,
   "id": "9d3f75a2-ae58-4cb2-afe5-741c6b0ea3da",
   "metadata": {},
   "outputs": [],
   "source": [
    "import pandas as pd\n",
    "import os\n",
    "import numpy as np\n",
    "from scipy import stats\n",
    "import matplotlib.pyplot as plt\n",
    "from scipy.stats.mstats import winsorize\n",
    "from scipy.stats import ttest_1samp\n"
   ]
  },
  {
   "cell_type": "code",
   "execution_count": 2,
   "id": "77106025-b926-43a1-a955-154f68ddd2b8",
   "metadata": {},
   "outputs": [],
   "source": [
    "# Define the input directory\n",
    "input_directory = '/work/pi_atreya_chakraborty_umb_edu/Captsone/Data'\n",
    "\n",
    "# Define the input file paths\n",
    "clean_analyst_path_weekly = os.path.join(input_directory, 'clean_analyst_weekly.dta')\n",
    "clean_analyst_path_monthly = os.path.join(input_directory, 'clean_analyst_monthly.dta')\n",
    "clean_crsp_path = os.path.join(input_directory, 'clean_crsp.dta')\n",
    "\n",
    "# Read the datasets\n",
    "results_df_weekly = pd.read_stata(clean_analyst_path_weekly)\n",
    "results_df_monthly = pd.read_stata(clean_analyst_path_monthly)\n",
    "crsp_data = pd.read_stata(clean_crsp_path)\n",
    "\n",
    "results_df_weekly = results_df_weekly.groupby(['cusip', 'estimid', 'year', 'month', 'week']).first().reset_index()\n",
    "results_df_monthly = results_df_monthly.groupby(['cusip', 'estimid', 'year', 'month']).first().reset_index()"
   ]
  },
  {
   "cell_type": "code",
   "execution_count": 3,
   "id": "15398b7c-36cb-48f0-ae3a-13b9d15c458f",
   "metadata": {},
   "outputs": [],
   "source": [
    "# Convert 'ireccd' to numeric, forcing errors to NaN (if any)\n",
    "results_df_monthly['ireccd'] = pd.to_numeric(results_df_monthly['ireccd'], errors='coerce')\n",
    "\n",
    "# Now, recode 'ireccd' so that higher values imply a more favorable recommendation\n",
    "results_df_monthly['ireccd'] = 6 - results_df_monthly['ireccd']\n",
    "\n",
    "# After recoding, proceed with the calculation of the average 'ireccd' as described earlier\n",
    "monthly_rec = results_df_monthly.groupby(['cusip', 'year', 'month']).agg(\n",
    "    avg_ireccd=('ireccd', 'mean'),\n",
    "    sic=('sic', 'first'),\n",
    "    ff_5=('ff_5', 'first'),\n",
    "    ff_10=('ff_10', 'first'),\n",
    "    ff_17=('ff_17', 'first'),\n",
    "    ff_48=('ff_48', 'first')\n",
    ").reset_index()"
   ]
  },
  {
   "cell_type": "code",
   "execution_count": 4,
   "id": "928d4f3e-2b56-4efe-822e-b0e1ab629495",
   "metadata": {},
   "outputs": [],
   "source": [
    "# Sort stocks into tertile portfolios based on the average 'ireccd'\n",
    "# Sort the crsp_data by 'cusip' and 'dlycaldt'\n",
    "crsp_data = crsp_data.sort_values(by=['cusip', 'dlycaldt'])\n",
    "\n",
    "# Create a 'year_month' column to group by year and month\n",
    "crsp_data['year_month'] = crsp_data['dlycaldt'].dt.to_period('M')\n",
    "\n",
    "# Calculate the average daily capitalization for each month\n",
    "crsp_data['monthly_avg_cap'] = crsp_data.groupby(['cusip', 'year_month'])['dlycap'].transform('mean')\n",
    "\n",
    "# Shift the monthly average capitalization by one period (one month) within each 'cusip'\n",
    "crsp_data['prior_month_avg_cap'] = crsp_data.groupby('cusip')['monthly_avg_cap'].shift()\n",
    "\n",
    "# Aggregate data to get the beginning and ending prices, prior month's average capitalization, and standard deviation\n",
    "crsp_monthly = crsp_data.groupby(['cusip', 'year', 'month']).agg(\n",
    "    beginning_price=('dlyprc', 'first'),\n",
    "    ending_price=('dlyprc', 'last'),\n",
    "    cusip9=('cusip9', 'first'),  # Retain the first 'cusip9' value in each group\n",
    "    prior_month_avg_cap=('prior_month_avg_cap', 'first'),  # Use the prior month's average 'dlycap'\n",
    "    month_std=('dlyprc', 'std')  # Calculate standard deviation for the month\n",
    ").reset_index()\n",
    "\n",
    "# Calculate the monthly return\n",
    "crsp_monthly['month_return'] = (crsp_monthly['ending_price'] - crsp_monthly['beginning_price']) / crsp_monthly['beginning_price'] * 100\n",
    "\n",
    "# Winsorize the 'month_return' and 'month_std' columns at the 1% and 99% levels\n",
    "crsp_monthly['month_return_winsorized'] = winsorize(crsp_monthly['month_return'], limits=[0.01, 0.01])\n",
    "crsp_monthly['month_std_winsorized'] = winsorize(crsp_monthly['month_std'], limits=[0.01, 0.01])\n",
    "\n",
    "# Define the function to assign periods based on the year\n",
    "def assign_period(year):\n",
    "    if 1992 <= year <= 1999:\n",
    "        return 1\n",
    "    elif 2000 <= year <= 2009:\n",
    "        return 2\n",
    "    elif 2010 <= year <= 2019:\n",
    "        return 3\n",
    "    elif 2020 <= year <= 2024:\n",
    "        return 4\n",
    "    else:\n",
    "        return None  # or another value indicating out of range\n",
    "\n",
    "# Apply the function to create the 'period' column\n",
    "crsp_monthly['period'] = crsp_monthly['year'].apply(assign_period)"
   ]
  },
  {
   "cell_type": "code",
   "execution_count": 5,
   "id": "6cf6c853-f888-4cef-ba1a-5a9aa4cf49ba",
   "metadata": {},
   "outputs": [],
   "source": [
    "# Merge monthly_rec with crsp_monthly based on 'cusip', 'year', and 'month'\n",
    "rec_return = pd.merge(monthly_rec, crsp_monthly[['cusip', 'year', 'month', 'month_return', 'month_return_winsorized', 'month_std', 'month_std_winsorized', 'cusip9', 'prior_month_avg_cap']], \n",
    "                    on=['cusip', 'year', 'month'], \n",
    "                    how='left')"
   ]
  },
  {
   "cell_type": "code",
   "execution_count": 6,
   "id": "8757775e-5ca6-499b-8c99-85d3d52d4392",
   "metadata": {},
   "outputs": [],
   "source": [
    "# File paths\n",
    "ff_momentum_path = f\"{input_directory}/FF_Momentum_Monthly.csv\"\n",
    "ff_str_path = f\"{input_directory}/FF_STR_Monthly.csv\"\n",
    "ff3_path = f\"{input_directory}/FF3_Monthly.csv\"\n",
    "ff5_path = f\"{input_directory}/FF5_Monthly.csv\"\n",
    "q_factor_path = f\"{input_directory}/q_factor.csv\"\n",
    "\n",
    "# Function to split Year-Month into separate year and month columns\n",
    "def add_year_month(df, col_name='Year-Month'):\n",
    "    df['year'] = df[col_name].astype(str).str[:4].astype(int)\n",
    "    df['month'] = df[col_name].astype(str).str[4:].astype(int)\n",
    "    return df\n",
    "\n",
    "# Load the datasets\n",
    "ff_momentum = pd.read_csv(ff_momentum_path)\n",
    "ff_str = pd.read_csv(ff_str_path)\n",
    "ff3 = pd.read_csv(ff3_path)\n",
    "ff5 = pd.read_csv(ff5_path)\n",
    "q_factor = pd.read_csv(q_factor_path)\n",
    "\n",
    "# Add year and month columns to each file\n",
    "ff_momentum = add_year_month(ff_momentum)\n",
    "ff_str = add_year_month(ff_str)\n",
    "ff3 = add_year_month(ff3)\n",
    "ff5 = add_year_month(ff5)\n",
    "\n",
    "# Ensure rec_return dataframe has year and month columns\n",
    "if 'year' not in rec_return.columns or 'month' not in rec_return.columns:\n",
    "    rec_return['year'] = rec_return['date'].astype(str).str[:4].astype(int)\n",
    "    rec_return['month'] = rec_return['date'].astype(str).str[5:7].astype(int)\n",
    "\n",
    "# Merge the four datasets into rec_return using lowercase year and month\n",
    "rec_return = pd.merge(rec_return, ff_momentum, on=['year', 'month'], how='left')\n",
    "rec_return = pd.merge(rec_return, ff_str, on=['year', 'month'], how='left')\n",
    "\n",
    "# Merge FF3_Monthly with suffix for overlapping columns\n",
    "rec_return = pd.merge(rec_return, ff3, on=['year', 'month'], how='left', suffixes=('', '_ff3'))\n",
    "\n",
    "# Merge FF5_Monthly with suffix for overlapping columns\n",
    "rec_return = pd.merge(rec_return, ff5, on=['year', 'month'], how='left', suffixes=('', '_ff5'))\n",
    "\n",
    "# Merge q_factor_monthly with suffix for overlapping columns\n",
    "rec_return = pd.merge(rec_return, q_factor, on=['year', 'month'], how='left', suffixes=('', '_q'))\n"
   ]
  },
  {
   "cell_type": "code",
   "execution_count": 7,
   "id": "064746bf-97a3-4511-8e32-8e6acc5c0d52",
   "metadata": {},
   "outputs": [
    {
     "data": {
      "text/plain": [
       "Index(['cusip', 'year', 'month', 'avg_ireccd', 'sic', 'ff_5', 'ff_10', 'ff_17',\n",
       "       'ff_48', 'month_return', 'month_return_winsorized', 'month_std',\n",
       "       'month_std_winsorized', 'cusip9', 'prior_month_avg_cap', 'Year-Month_x',\n",
       "       'Mom   ', 'Year-Month_y', 'ST_Rev', 'Year-Month', 'Mkt-RF', 'SMB',\n",
       "       'HML', 'RF', 'Year-Month_ff5', 'Mkt-RF_ff5', 'SMB_ff5', 'HML_ff5',\n",
       "       'RMW', 'CMA', 'RF_ff5', 'R_F', 'R_MKT', 'R_ME', 'R_IA', 'R_ROE',\n",
       "       'R_EG'],\n",
       "      dtype='object')"
      ]
     },
     "execution_count": 7,
     "metadata": {},
     "output_type": "execute_result"
    }
   ],
   "source": [
    "rec_return.columns"
   ]
  },
  {
   "cell_type": "code",
   "execution_count": 8,
   "id": "d57f29ac-9a0d-4ac4-a100-2e10618476b2",
   "metadata": {},
   "outputs": [
    {
     "name": "stderr",
     "output_type": "stream",
     "text": [
      "/tmp/ipykernel_877356/322917081.py:1: InvalidColumnName: \n",
      "Not all pandas column names were valid Stata variable names.\n",
      "The following replacements have been made:\n",
      "\n",
      "    Year-Month_x   ->   Year_Month_x\n",
      "    Mom      ->   Mom___\n",
      "    Year-Month_y   ->   Year_Month_y\n",
      "    Year-Month   ->   Year_Month\n",
      "    Mkt-RF   ->   Mkt_RF\n",
      "    Year-Month_ff5   ->   Year_Month_ff5\n",
      "    Mkt-RF_ff5   ->   Mkt_RF_ff5\n",
      "\n",
      "If this is not what you expect, please make sure you have Stata-compliant\n",
      "column names in your DataFrame (strings only, max 32 characters, only\n",
      "alphanumerics and underscores, no Stata reserved words)\n",
      "\n",
      "  rec_return.to_stata(\"rec_return.dta\")\n"
     ]
    }
   ],
   "source": [
    "rec_return.to_stata(\"rec_return.dta\")"
   ]
  }
 ],
 "metadata": {
  "kernelspec": {
   "display_name": "Python 3 (ipykernel)",
   "language": "python",
   "name": "python3"
  },
  "language_info": {
   "codemirror_mode": {
    "name": "ipython",
    "version": 3
   },
   "file_extension": ".py",
   "mimetype": "text/x-python",
   "name": "python",
   "nbconvert_exporter": "python",
   "pygments_lexer": "ipython3",
   "version": "3.11.0"
  }
 },
 "nbformat": 4,
 "nbformat_minor": 5
}
